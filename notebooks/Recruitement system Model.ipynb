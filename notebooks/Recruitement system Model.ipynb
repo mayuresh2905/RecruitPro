{
 "cells": [
  {
   "cell_type": "markdown",
   "id": "3b99897c",
   "metadata": {},
   "source": [
    "# Loading Dataset"
   ]
  },
  {
   "cell_type": "code",
   "execution_count": 47,
   "id": "5f6614c6",
   "metadata": {},
   "outputs": [],
   "source": [
    "import numpy as np\n",
    "import pandas as pd"
   ]
  },
  {
   "cell_type": "code",
   "execution_count": 48,
   "id": "191fa99e",
   "metadata": {},
   "outputs": [],
   "source": [
    "data = pd.read_csv(\"../datasets/Placement_Data_Full_Class.csv\")"
   ]
  },
  {
   "cell_type": "code",
   "execution_count": 49,
   "id": "68e8d1d8",
   "metadata": {},
   "outputs": [
    {
     "data": {
      "text/html": [
       "<div>\n",
       "<style scoped>\n",
       "    .dataframe tbody tr th:only-of-type {\n",
       "        vertical-align: middle;\n",
       "    }\n",
       "\n",
       "    .dataframe tbody tr th {\n",
       "        vertical-align: top;\n",
       "    }\n",
       "\n",
       "    .dataframe thead th {\n",
       "        text-align: right;\n",
       "    }\n",
       "</style>\n",
       "<table border=\"1\" class=\"dataframe\">\n",
       "  <thead>\n",
       "    <tr style=\"text-align: right;\">\n",
       "      <th></th>\n",
       "      <th>sl_no</th>\n",
       "      <th>gender</th>\n",
       "      <th>ssc_p</th>\n",
       "      <th>ssc_b</th>\n",
       "      <th>hsc_p</th>\n",
       "      <th>hsc_b</th>\n",
       "      <th>hsc_s</th>\n",
       "      <th>degree_p</th>\n",
       "      <th>degree_t</th>\n",
       "      <th>workex</th>\n",
       "      <th>etest_p</th>\n",
       "      <th>specialisation</th>\n",
       "      <th>mba_p</th>\n",
       "      <th>status</th>\n",
       "      <th>salary</th>\n",
       "    </tr>\n",
       "  </thead>\n",
       "  <tbody>\n",
       "    <tr>\n",
       "      <th>0</th>\n",
       "      <td>1</td>\n",
       "      <td>M</td>\n",
       "      <td>67.00</td>\n",
       "      <td>Others</td>\n",
       "      <td>91.00</td>\n",
       "      <td>Others</td>\n",
       "      <td>Commerce</td>\n",
       "      <td>58.00</td>\n",
       "      <td>Sci&amp;Tech</td>\n",
       "      <td>No</td>\n",
       "      <td>55.0</td>\n",
       "      <td>Mkt&amp;HR</td>\n",
       "      <td>58.80</td>\n",
       "      <td>Placed</td>\n",
       "      <td>270000.0</td>\n",
       "    </tr>\n",
       "    <tr>\n",
       "      <th>1</th>\n",
       "      <td>2</td>\n",
       "      <td>M</td>\n",
       "      <td>79.33</td>\n",
       "      <td>Central</td>\n",
       "      <td>78.33</td>\n",
       "      <td>Others</td>\n",
       "      <td>Science</td>\n",
       "      <td>77.48</td>\n",
       "      <td>Sci&amp;Tech</td>\n",
       "      <td>Yes</td>\n",
       "      <td>86.5</td>\n",
       "      <td>Mkt&amp;Fin</td>\n",
       "      <td>66.28</td>\n",
       "      <td>Placed</td>\n",
       "      <td>200000.0</td>\n",
       "    </tr>\n",
       "    <tr>\n",
       "      <th>2</th>\n",
       "      <td>3</td>\n",
       "      <td>M</td>\n",
       "      <td>65.00</td>\n",
       "      <td>Central</td>\n",
       "      <td>68.00</td>\n",
       "      <td>Central</td>\n",
       "      <td>Arts</td>\n",
       "      <td>64.00</td>\n",
       "      <td>Comm&amp;Mgmt</td>\n",
       "      <td>No</td>\n",
       "      <td>75.0</td>\n",
       "      <td>Mkt&amp;Fin</td>\n",
       "      <td>57.80</td>\n",
       "      <td>Placed</td>\n",
       "      <td>250000.0</td>\n",
       "    </tr>\n",
       "    <tr>\n",
       "      <th>3</th>\n",
       "      <td>4</td>\n",
       "      <td>M</td>\n",
       "      <td>56.00</td>\n",
       "      <td>Central</td>\n",
       "      <td>52.00</td>\n",
       "      <td>Central</td>\n",
       "      <td>Science</td>\n",
       "      <td>52.00</td>\n",
       "      <td>Sci&amp;Tech</td>\n",
       "      <td>No</td>\n",
       "      <td>66.0</td>\n",
       "      <td>Mkt&amp;HR</td>\n",
       "      <td>59.43</td>\n",
       "      <td>Not Placed</td>\n",
       "      <td>NaN</td>\n",
       "    </tr>\n",
       "    <tr>\n",
       "      <th>4</th>\n",
       "      <td>5</td>\n",
       "      <td>M</td>\n",
       "      <td>85.80</td>\n",
       "      <td>Central</td>\n",
       "      <td>73.60</td>\n",
       "      <td>Central</td>\n",
       "      <td>Commerce</td>\n",
       "      <td>73.30</td>\n",
       "      <td>Comm&amp;Mgmt</td>\n",
       "      <td>No</td>\n",
       "      <td>96.8</td>\n",
       "      <td>Mkt&amp;Fin</td>\n",
       "      <td>55.50</td>\n",
       "      <td>Placed</td>\n",
       "      <td>425000.0</td>\n",
       "    </tr>\n",
       "  </tbody>\n",
       "</table>\n",
       "</div>"
      ],
      "text/plain": [
       "   sl_no gender  ssc_p    ssc_b  hsc_p    hsc_b     hsc_s  degree_p  \\\n",
       "0      1      M  67.00   Others  91.00   Others  Commerce     58.00   \n",
       "1      2      M  79.33  Central  78.33   Others   Science     77.48   \n",
       "2      3      M  65.00  Central  68.00  Central      Arts     64.00   \n",
       "3      4      M  56.00  Central  52.00  Central   Science     52.00   \n",
       "4      5      M  85.80  Central  73.60  Central  Commerce     73.30   \n",
       "\n",
       "    degree_t workex  etest_p specialisation  mba_p      status    salary  \n",
       "0   Sci&Tech     No     55.0         Mkt&HR  58.80      Placed  270000.0  \n",
       "1   Sci&Tech    Yes     86.5        Mkt&Fin  66.28      Placed  200000.0  \n",
       "2  Comm&Mgmt     No     75.0        Mkt&Fin  57.80      Placed  250000.0  \n",
       "3   Sci&Tech     No     66.0         Mkt&HR  59.43  Not Placed       NaN  \n",
       "4  Comm&Mgmt     No     96.8        Mkt&Fin  55.50      Placed  425000.0  "
      ]
     },
     "execution_count": 49,
     "metadata": {},
     "output_type": "execute_result"
    }
   ],
   "source": [
    "data.head()"
   ]
  },
  {
   "cell_type": "code",
   "execution_count": 50,
   "id": "bce294d1",
   "metadata": {},
   "outputs": [],
   "source": [
    "data.drop(['ssc_b','hsc_b', 'hsc_s', 'degree_t', 'salary'], axis=1, inplace=True)"
   ]
  },
  {
   "cell_type": "code",
   "execution_count": 51,
   "id": "f4ee1f56",
   "metadata": {},
   "outputs": [
    {
     "data": {
      "text/html": [
       "<div>\n",
       "<style scoped>\n",
       "    .dataframe tbody tr th:only-of-type {\n",
       "        vertical-align: middle;\n",
       "    }\n",
       "\n",
       "    .dataframe tbody tr th {\n",
       "        vertical-align: top;\n",
       "    }\n",
       "\n",
       "    .dataframe thead th {\n",
       "        text-align: right;\n",
       "    }\n",
       "</style>\n",
       "<table border=\"1\" class=\"dataframe\">\n",
       "  <thead>\n",
       "    <tr style=\"text-align: right;\">\n",
       "      <th></th>\n",
       "      <th>sl_no</th>\n",
       "      <th>gender</th>\n",
       "      <th>ssc_p</th>\n",
       "      <th>hsc_p</th>\n",
       "      <th>degree_p</th>\n",
       "      <th>workex</th>\n",
       "      <th>etest_p</th>\n",
       "      <th>specialisation</th>\n",
       "      <th>mba_p</th>\n",
       "      <th>status</th>\n",
       "    </tr>\n",
       "  </thead>\n",
       "  <tbody>\n",
       "    <tr>\n",
       "      <th>0</th>\n",
       "      <td>1</td>\n",
       "      <td>M</td>\n",
       "      <td>67.00</td>\n",
       "      <td>91.00</td>\n",
       "      <td>58.00</td>\n",
       "      <td>No</td>\n",
       "      <td>55.0</td>\n",
       "      <td>Mkt&amp;HR</td>\n",
       "      <td>58.80</td>\n",
       "      <td>Placed</td>\n",
       "    </tr>\n",
       "    <tr>\n",
       "      <th>1</th>\n",
       "      <td>2</td>\n",
       "      <td>M</td>\n",
       "      <td>79.33</td>\n",
       "      <td>78.33</td>\n",
       "      <td>77.48</td>\n",
       "      <td>Yes</td>\n",
       "      <td>86.5</td>\n",
       "      <td>Mkt&amp;Fin</td>\n",
       "      <td>66.28</td>\n",
       "      <td>Placed</td>\n",
       "    </tr>\n",
       "    <tr>\n",
       "      <th>2</th>\n",
       "      <td>3</td>\n",
       "      <td>M</td>\n",
       "      <td>65.00</td>\n",
       "      <td>68.00</td>\n",
       "      <td>64.00</td>\n",
       "      <td>No</td>\n",
       "      <td>75.0</td>\n",
       "      <td>Mkt&amp;Fin</td>\n",
       "      <td>57.80</td>\n",
       "      <td>Placed</td>\n",
       "    </tr>\n",
       "    <tr>\n",
       "      <th>3</th>\n",
       "      <td>4</td>\n",
       "      <td>M</td>\n",
       "      <td>56.00</td>\n",
       "      <td>52.00</td>\n",
       "      <td>52.00</td>\n",
       "      <td>No</td>\n",
       "      <td>66.0</td>\n",
       "      <td>Mkt&amp;HR</td>\n",
       "      <td>59.43</td>\n",
       "      <td>Not Placed</td>\n",
       "    </tr>\n",
       "    <tr>\n",
       "      <th>4</th>\n",
       "      <td>5</td>\n",
       "      <td>M</td>\n",
       "      <td>85.80</td>\n",
       "      <td>73.60</td>\n",
       "      <td>73.30</td>\n",
       "      <td>No</td>\n",
       "      <td>96.8</td>\n",
       "      <td>Mkt&amp;Fin</td>\n",
       "      <td>55.50</td>\n",
       "      <td>Placed</td>\n",
       "    </tr>\n",
       "  </tbody>\n",
       "</table>\n",
       "</div>"
      ],
      "text/plain": [
       "   sl_no gender  ssc_p  hsc_p  degree_p workex  etest_p specialisation  mba_p  \\\n",
       "0      1      M  67.00  91.00     58.00     No     55.0         Mkt&HR  58.80   \n",
       "1      2      M  79.33  78.33     77.48    Yes     86.5        Mkt&Fin  66.28   \n",
       "2      3      M  65.00  68.00     64.00     No     75.0        Mkt&Fin  57.80   \n",
       "3      4      M  56.00  52.00     52.00     No     66.0         Mkt&HR  59.43   \n",
       "4      5      M  85.80  73.60     73.30     No     96.8        Mkt&Fin  55.50   \n",
       "\n",
       "       status  \n",
       "0      Placed  \n",
       "1      Placed  \n",
       "2      Placed  \n",
       "3  Not Placed  \n",
       "4      Placed  "
      ]
     },
     "execution_count": 51,
     "metadata": {},
     "output_type": "execute_result"
    }
   ],
   "source": [
    "data.head()"
   ]
  },
  {
   "cell_type": "markdown",
   "id": "69685552",
   "metadata": {},
   "source": [
    "# Preprocessing\n",
    "\n",
    "# Encoding"
   ]
  },
  {
   "cell_type": "code",
   "execution_count": 52,
   "id": "bd95085a",
   "metadata": {},
   "outputs": [],
   "source": [
    "data[\"gender\"] = data.gender.map({\"M\":0,\"F\":1})\n",
    "data[\"workex\"] = data.workex.map({\"No\":0, \"Yes\":1})\n",
    "data[\"status\"] = data.status.map({\"Not Placed\":0, \"Placed\":1})\n",
    "data[\"specialisation\"] = data.specialisation.map({\"Mkt&HR\":0, \"Mkt&Fin\":1})"
   ]
  },
  {
   "cell_type": "markdown",
   "id": "370c6bee",
   "metadata": {},
   "source": [
    "# Balance Dataset"
   ]
  },
  {
   "cell_type": "code",
   "execution_count": 53,
   "id": "fbd5d1f6",
   "metadata": {},
   "outputs": [
    {
     "data": {
      "text/plain": [
       "status\n",
       "1    148\n",
       "0     67\n",
       "Name: count, dtype: int64"
      ]
     },
     "execution_count": 53,
     "metadata": {},
     "output_type": "execute_result"
    }
   ],
   "source": [
    "data['status'].value_counts()"
   ]
  },
  {
   "cell_type": "code",
   "execution_count": 54,
   "id": "2fc509f3",
   "metadata": {},
   "outputs": [],
   "source": [
    "from sklearn.utils import resample\n",
    "\n",
    "# Separate the majority and minority classes\n",
    "data_majority = data[data['status'] == 1]\n",
    "data_minority = data[data['status'] == 0]\n",
    "\n",
    "# Upsample minority class\n",
    "data_minority_upsampled = resample(data_minority, \n",
    "                                   replace=True,     # sample with replacement\n",
    "                                   n_samples=len(data_majority),    # to match majority class\n",
    "                                   random_state=42) # reproducible results\n",
    "\n",
    "# Combine majority class with upsampled minority class\n",
    "balanced_data = pd.concat([data_majority, data_minority_upsampled])"
   ]
  },
  {
   "cell_type": "code",
   "execution_count": 55,
   "id": "585d629e",
   "metadata": {},
   "outputs": [
    {
     "data": {
      "text/plain": [
       "status\n",
       "1    148\n",
       "0    148\n",
       "Name: count, dtype: int64"
      ]
     },
     "execution_count": 55,
     "metadata": {},
     "output_type": "execute_result"
    }
   ],
   "source": [
    "balanced_data['status'].value_counts()"
   ]
  },
  {
   "cell_type": "markdown",
   "id": "7d791fa8",
   "metadata": {},
   "source": [
    "# Train Test Split"
   ]
  },
  {
   "cell_type": "code",
   "execution_count": 56,
   "id": "d8021725",
   "metadata": {},
   "outputs": [],
   "source": [
    "# Seperating Features and Target\n",
    "X = balanced_data.copy().drop('status', axis=1)\n",
    "y = balanced_data['status']"
   ]
  },
  {
   "cell_type": "code",
   "execution_count": 57,
   "id": "9f4af27f",
   "metadata": {},
   "outputs": [
    {
     "data": {
      "text/plain": [
       "((207, 9), (207,), (89, 9), (89,))"
      ]
     },
     "execution_count": 57,
     "metadata": {},
     "output_type": "execute_result"
    }
   ],
   "source": [
    "#Train Test Split\n",
    "from sklearn.model_selection import train_test_split\n",
    "X_train, X_test, Y_train, Y_test = train_test_split(X, y, test_size=0.3)\n",
    "X_train.shape, Y_train.shape, X_test.shape,Y_test.shape"
   ]
  },
  {
   "cell_type": "markdown",
   "id": "a5f75c59",
   "metadata": {},
   "source": [
    "# Feature Scaling"
   ]
  },
  {
   "cell_type": "code",
   "execution_count": 58,
   "id": "36997044",
   "metadata": {},
   "outputs": [],
   "source": [
    "# scale each features\n",
    "from sklearn.preprocessing import MinMaxScaler\n",
    "scaler = MinMaxScaler()\n",
    "X_train = scaler.fit_transform(X_train)\n",
    "X_test = scaler.transform(X_test)"
   ]
  },
  {
   "cell_type": "markdown",
   "id": "51b9fff4",
   "metadata": {},
   "source": [
    "# 1 k-nearest neighbor"
   ]
  },
  {
   "cell_type": "code",
   "execution_count": 59,
   "id": "dba113e3",
   "metadata": {},
   "outputs": [
    {
     "data": {
      "text/plain": [
       "0.8202247191011236"
      ]
     },
     "execution_count": 59,
     "metadata": {},
     "output_type": "execute_result"
    }
   ],
   "source": [
    "from sklearn.neighbors import KNeighborsClassifier\n",
    "\n",
    "knn = KNeighborsClassifier(n_neighbors = 3)\n",
    "knn.fit(X_train, Y_train)\n",
    "knn_Y_pred = knn.predict(X_test)\n",
    "knn_accuracy = knn.score(X_test, Y_test)\n",
    "knn_accuracy"
   ]
  },
  {
   "cell_type": "code",
   "execution_count": 60,
   "id": "6f711443",
   "metadata": {},
   "outputs": [
    {
     "data": {
      "image/png": "[encoded data removed]",
      "text/plain": [
       "<Figure size 1000x700 with 2 Axes>"
      ]
     },
     "metadata": {},
     "output_type": "display_data"
    }
   ],
   "source": [
    "# creating confusion matrix heatmap\n",
    "from sklearn.metrics import confusion_matrix\n",
    "import matplotlib.pyplot as plt\n",
    "import seaborn as sns\n",
    "\n",
    "conf_mat = confusion_matrix(Y_test, knn_Y_pred)\n",
    "fig = plt.figure(figsize=(10,7))\n",
    "\n",
    "group_names = ['True Neg','False Pos','False Neg','True Pos']\n",
    "group_counts = [\"{0:0.0f}\".format(value) for value in conf_mat.flatten()]\n",
    "labels = [f\"{v1}\\n{v2}\" for v1, v2 in zip(group_names,group_counts)]\n",
    "labels = np.asarray(labels).reshape(2,2)\n",
    "\n",
    "sns.heatmap(conf_mat, annot=labels, annot_kws={\"size\": 16}, fmt='')\n",
    "plt.title(\"Confusion Matrix\")\n",
    "plt.xlabel(\"Predicted Label\")\n",
    "plt.ylabel(\"True Label\")\n",
    "plt.show()"
   ]
  },
  {
   "cell_type": "markdown",
   "id": "ee2d7830",
   "metadata": {},
   "source": [
    "# Decision Tree"
   ]
  },
  {
   "cell_type": "code",
   "execution_count": 61,
   "id": "9219cd0f",
   "metadata": {},
   "outputs": [
    {
     "data": {
      "text/plain": [
       "0.898876404494382"
      ]
     },
     "execution_count": 61,
     "metadata": {},
     "output_type": "execute_result"
    }
   ],
   "source": [
    "# Decision Tree\n",
    "from sklearn.tree import DecisionTreeClassifier\n",
    "\n",
    "decision_tree = DecisionTreeClassifier()\n",
    "decision_tree.fit(X_train, Y_train)\n",
    "decision_tree_Y_pred = decision_tree.predict(X_test)\n",
    "decision_tree_accuracy = decision_tree.score(X_test, Y_test)\n",
    "decision_tree_accuracy"
   ]
  },
  {
   "cell_type": "code",
   "execution_count": 62,
   "id": "0b5e2821",
   "metadata": {},
   "outputs": [
    {
     "data": {
      "image/png": "[encoded data removed]",
      "text/plain": [
       "<Figure size 1000x700 with 2 Axes>"
      ]
     },
     "metadata": {},
     "output_type": "display_data"
    }
   ],
   "source": [
    "# creating confusion matrix heatmap\n",
    "\n",
    "conf_mat = confusion_matrix(Y_test, decision_tree_Y_pred)\n",
    "fig = plt.figure(figsize=(10,7))\n",
    "group_names = ['True Neg','False Pos','False Neg','True Pos']\n",
    "group_counts = [\"{0:0.0f}\".format(value) for value in\n",
    "                conf_mat.flatten()]\n",
    "labels = [f\"{v1}\\n{v2}\" for v1, v2 in zip(group_names,group_counts)]\n",
    "labels = np.asarray(labels).reshape(2,2)\n",
    "sns.heatmap(conf_mat, annot=labels, annot_kws={\"size\": 16}, fmt='')\n",
    "plt.title(\"Confusion Matrix\")\n",
    "plt.xlabel(\"Predicted Label\")\n",
    "plt.ylabel(\"True Label\")\n",
    "plt.show()"
   ]
  },
  {
   "cell_type": "markdown",
   "id": "1da4f97d",
   "metadata": {},
   "source": [
    "# SVM"
   ]
  },
  {
   "cell_type": "code",
   "execution_count": 63,
   "id": "0e421057",
   "metadata": {},
   "outputs": [
    {
     "data": {
      "text/plain": [
       "0.8876404494382022"
      ]
     },
     "execution_count": 63,
     "metadata": {},
     "output_type": "execute_result"
    }
   ],
   "source": [
    "# Support Vector Machine\n",
    "from sklearn.svm import SVC\n",
    "svc = SVC()\n",
    "svc.fit(X_train, Y_train)\n",
    "svm_Y_pred = svc.predict(X_test)\n",
    "svc_accuracy = svc.score(X_test, Y_test)\n",
    "svc_accuracy"
   ]
  },
  {
   "cell_type": "code",
   "execution_count": 64,
   "id": "6f1c2b4d",
   "metadata": {},
   "outputs": [
    {
     "data": {
      "image/png": "[encoded data removed]",
      "text/plain": [
       "<Figure size 1000x700 with 2 Axes>"
      ]
     },
     "metadata": {},
     "output_type": "display_data"
    }
   ],
   "source": [
    "# creating confusion matrix heatmap\n",
    "\n",
    "conf_mat = confusion_matrix(Y_test, svm_Y_pred)\n",
    "fig = plt.figure(figsize=(10,7))\n",
    "group_names = ['True Neg','False Pos','False Neg','True Pos']\n",
    "group_counts = [\"{0:0.0f}\".format(value) for value in\n",
    "                conf_mat.flatten()]\n",
    "labels = [f\"{v1}\\n{v2}\" for v1, v2 in zip(group_names,group_counts)]\n",
    "labels = np.asarray(labels).reshape(2,2)\n",
    "sns.heatmap(conf_mat, annot=labels, annot_kws={\"size\": 16}, fmt='')\n",
    "plt.title(\"Confusion Matrix\")\n",
    "plt.xlabel(\"Predicted Label\")\n",
    "plt.ylabel(\"True Label\")\n",
    "plt.show()"
   ]
  },
  {
   "cell_type": "markdown",
   "id": "c0a69b14",
   "metadata": {},
   "source": [
    "# Random Forest"
   ]
  },
  {
   "cell_type": "code",
   "execution_count": 65,
   "id": "b9013c1d",
   "metadata": {},
   "outputs": [
    {
     "data": {
      "text/plain": [
       "0.9438202247191011"
      ]
     },
     "execution_count": 65,
     "metadata": {},
     "output_type": "execute_result"
    }
   ],
   "source": [
    "from sklearn.ensemble import RandomForestClassifier\n",
    "\n",
    "random_forest = RandomForestClassifier(n_estimators=1000)\n",
    "random_forest.fit(X_train, Y_train)\n",
    "random_forest_Y_pred = random_forest.predict(X_test)\n",
    "random_forest.score(X_train, Y_train)\n",
    "random_forest_accuracy = random_forest.score(X_test, Y_test)\n",
    "random_forest_accuracy"
   ]
  },
  {
   "cell_type": "code",
   "execution_count": 66,
   "id": "f19ae24d",
   "metadata": {},
   "outputs": [
    {
     "data": {
      "image/png": "[encoded data removed]",
      "text/plain": [
       "<Figure size 1000x700 with 2 Axes>"
      ]
     },
     "metadata": {},
     "output_type": "display_data"
    }
   ],
   "source": [
    "# creating confusion matrix heatmap\n",
    "\n",
    "conf_mat = confusion_matrix(Y_test, random_forest_Y_pred)\n",
    "fig = plt.figure(figsize=(10,7))\n",
    "group_names = ['True Neg','False Pos','False Neg','True Pos']\n",
    "group_counts = [\"{0:0.0f}\".format(value) for value in\n",
    "                conf_mat.flatten()]\n",
    "labels = [f\"{v1}\\n{v2}\" for v1, v2 in zip(group_names,group_counts)]\n",
    "labels = np.asarray(labels).reshape(2,2)\n",
    "sns.heatmap(conf_mat, annot=labels, annot_kws={\"size\": 16}, fmt='')\n",
    "plt.title(\"Confusion Matrix\")\n",
    "plt.xlabel(\"Predicted Label\")\n",
    "plt.ylabel(\"True Label\")\n",
    "plt.show()"
   ]
  },
  {
   "cell_type": "markdown",
   "id": "d955a180",
   "metadata": {},
   "source": [
    "# Gaussian Naive Bayes"
   ]
  },
  {
   "cell_type": "code",
   "execution_count": 67,
   "id": "624b7e7c",
   "metadata": {},
   "outputs": [
    {
     "data": {
      "text/plain": [
       "0.8314606741573034"
      ]
     },
     "execution_count": 67,
     "metadata": {},
     "output_type": "execute_result"
    }
   ],
   "source": [
    "from sklearn.naive_bayes import GaussianNB\n",
    "gaussian = GaussianNB()\n",
    "gaussian.fit(X_train, Y_train)\n",
    "gaussian_Y_pred = gaussian.predict(X_test)\n",
    "gaussian_accuracy = gaussian.score(X_test, Y_test)\n",
    "gaussian_accuracy"
   ]
  },
  {
   "cell_type": "markdown",
   "id": "5d3ae3d1",
   "metadata": {},
   "source": [
    "# Logistic Regression"
   ]
  },
  {
   "cell_type": "code",
   "execution_count": 68,
   "id": "c7dcb703",
   "metadata": {},
   "outputs": [
    {
     "data": {
      "text/plain": [
       "0.8089887640449438"
      ]
     },
     "execution_count": 68,
     "metadata": {},
     "output_type": "execute_result"
    }
   ],
   "source": [
    "from sklearn.linear_model import LogisticRegression\n",
    "lg = LogisticRegression()\n",
    "lg.fit(X_train, Y_train)\n",
    "lg_Y_pred = lg.predict(X_test)\n",
    "lg_accuracy = lg.score(X_test, Y_test)\n",
    "lg_accuracy"
   ]
  },
  {
   "cell_type": "markdown",
   "id": "241f0bf9",
   "metadata": {},
   "source": [
    "# Single Input Predictions"
   ]
  },
  {
   "cell_type": "code",
   "execution_count": 69,
   "id": "a17e1d63",
   "metadata": {},
   "outputs": [
    {
     "name": "stdout",
     "output_type": "stream",
     "text": [
      "Index([145,  50,  67, 136,  65,  41,  55, 144, 201,  63, 115, 203, 179,  30,\n",
      "       159, 175,  42,  93,   1,  97,  41, 173, 123, 188, 194, 108, 131, 127,\n",
      "        68, 165,  35,  34,  88,  53,  72,  82,  18, 106,  56,  42,   3,  91,\n",
      "        87, 190, 105,  62, 195,  21, 135, 186,  12, 198, 205,  20,   9,  25,\n",
      "       206, 117, 169, 129, 134,   5, 194, 158, 159, 147, 137, 103, 157, 110,\n",
      "       200,  18,  98, 173, 180,  17,  27, 198, 155,  32,  95,  91, 194,   5,\n",
      "        58, 170, 194, 171, 196],\n",
      "      dtype='int64')\n"
     ]
    }
   ],
   "source": [
    "print(Y_test.index)  # Check available indices"
   ]
  },
  {
   "cell_type": "code",
   "execution_count": 70,
   "id": "dd5201bc",
   "metadata": {},
   "outputs": [
    {
     "data": {
      "text/plain": [
       "array([[ 0.68075117,  0.        ,  1.02978723,  0.47215815,  0.51829268,\n",
       "         0.        ,  0.45286195,  0.        ,  0.45052474],\n",
       "       [ 0.23474178,  1.        ,  0.72765957,  0.59637562,  0.44878049,\n",
       "         0.        ,  0.30555556,  0.        ,  0.44115442],\n",
       "       [ 0.31455399,  0.        ,  0.8493617 ,  0.68369028,  0.41463415,\n",
       "         0.        ,  0.38362795,  1.        ,  0.36656672],\n",
       "       [ 0.63849765,  1.        ,  0.12765957,  0.36243822,  0.34146341,\n",
       "         0.        ,  0.57912458,  1.        ,  0.38868066],\n",
       "       [ 0.30516432,  0.        ,  0.27659574,  0.16474465,  0.17073171,\n",
       "         0.        ,  0.82512626,  0.        ,  0.22076462],\n",
       "       [ 0.19248826,  1.        ,  0.70212766,  0.43097199,  0.36585366,\n",
       "         1.        ,  0.30555556,  0.        ,  0.69527736],\n",
       "       [ 0.25821596,  0.        ,  0.41276596,  0.48764415,  0.36585366,\n",
       "         0.        ,  0.43181818,  0.        ,  0.05622189],\n",
       "       [ 0.67605634,  0.        ,  0.23404255,  0.21416804,  0.26829268,\n",
       "         0.        ,  0.2003367 ,  1.        ,  0.27398801],\n",
       "       [ 0.94366197,  0.        ,  0.28085106,  0.42833608,  0.19512195,\n",
       "         0.        ,  0.60016835,  0.        ,  0.27098951],\n",
       "       [ 0.29577465,  0.        ,  0.42553191,  0.54365733,  0.34146341,\n",
       "         0.        ,  0.37920875,  0.        ,  0.31071964],\n",
       "       [ 0.5399061 ,  1.        ,  0.68085106,  0.42833608,  0.3902439 ,\n",
       "         0.        ,  0.81060606,  1.        ,  0.3482009 ],\n",
       "       [ 0.95305164,  0.        ,  0.31234043,  0.40082372,  0.16756098,\n",
       "         0.        ,  0.32659933,  0.        ,  0.26574213],\n",
       "       [ 0.84037559,  1.        ,  0.78297872,  0.44481054,  0.34634146,\n",
       "         0.        ,  0.52651515,  0.        ,  0.78448276],\n",
       "       [ 0.14084507,  1.        ,  0.4893617 ,  0.60131796,  0.56097561,\n",
       "         0.        ,  0.03198653,  0.        ,  0.20577211],\n",
       "       [ 0.74647887,  0.        ,  0.23404255,  0.19769357,  0.19512195,\n",
       "         0.        ,  0.24242424,  0.        ,  0.35157421],\n",
       "       [ 0.82159624,  0.        ,  0.46808511,  0.41186161,  0.36585366,\n",
       "         0.        ,  0.7790404 ,  0.        ,  0.35532234],\n",
       "       [ 0.1971831 ,  0.        ,  0.17021277,  0.03294893,  0.36585366,\n",
       "         0.        ,  0.26346801,  1.        ,  0.        ],\n",
       "       [ 0.43661972,  0.        ,  0.23404255,  0.41186161,  0.09756098,\n",
       "         0.        ,  0.45286195,  0.        ,  0.15742129],\n",
       "       [ 0.00469484,  0.        ,  0.81553191,  0.68088962,  0.6702439 ,\n",
       "         1.        ,  0.75799663,  1.        ,  0.56484258],\n",
       "       [ 0.45539906,  1.        ,  0.62765957,  0.42009885,  0.26829268,\n",
       "         0.        ,  0.91393098,  1.        ,  0.66791604],\n",
       "       [ 0.19248826,  1.        ,  0.70212766,  0.43097199,  0.36585366,\n",
       "         1.        ,  0.30555556,  0.        ,  0.69527736],\n",
       "       [ 0.81220657,  1.        ,  0.23404255,  0.24711697,  0.12195122,\n",
       "         0.        ,  0.3476431 ,  0.        ,  0.30397301],\n",
       "       [ 0.57746479,  0.        ,  0.70212766,  0.36243822,  0.56097561,\n",
       "         1.        ,  0.2003367 ,  0.        ,  0.20577211],\n",
       "       [ 0.88262911,  0.        ,  0.44255319,  0.16474465,  0.10682927,\n",
       "         0.        ,  0.13720539,  1.        ,  0.1844078 ],\n",
       "       [ 0.91079812,  0.        ,  0.23404255,  0.29654036,  0.15365854,\n",
       "         0.        ,  0.17929293,  1.        ,  0.50712144],\n",
       "       [ 0.50704225,  0.        ,  0.42553191,  0.74135091,  0.46341463,\n",
       "         0.        ,  0.70538721,  1.        ,  0.26611694],\n",
       "       [ 0.61502347,  1.        ,  0.7212766 ,  0.32948929,  0.29268293,\n",
       "         1.        ,  0.62121212,  1.        ,  0.35869565],\n",
       "       [ 0.59624413,  1.        ,  0.65957447,  0.37891269,  0.46341463,\n",
       "         0.        ,  0.10563973,  0.        ,  0.26949025],\n",
       "       [ 0.31924883,  1.        ,  0.6106383 ,  0.16474465,  0.55365854,\n",
       "         0.        ,  0.60016835,  0.        ,  0.30097451],\n",
       "       [ 0.77464789,  1.        ,  0.47446809,  0.68088962,  0.58536585,\n",
       "         0.        ,  0.62121212,  1.        ,  0.87518741],\n",
       "       [ 0.16431925,  1.        ,  0.59574468,  0.67545305,  0.53658537,\n",
       "         0.        ,  0.43181818,  0.        ,  0.43215892],\n",
       "       [ 0.15962441,  0.        ,  0.44680851,  0.2306425 ,  0.04878049,\n",
       "         0.        ,  0.37794613,  0.        ,  0.43328336],\n",
       "       [ 0.41314554,  1.        ,  0.53191489,  0.41186161,  0.56097561,\n",
       "         0.        ,  0.15824916,  0.        ,  0.49287856],\n",
       "       [ 0.24882629,  0.        ,  0.82978723,  0.54365733,  0.53658537,\n",
       "         0.        ,  0.76851852,  0.        ,  0.74325337],\n",
       "       [ 0.33802817,  0.        ,  0.93319149,  0.49423394,  0.68292683,\n",
       "         0.        ,  0.94739057,  1.        ,  0.64917541],\n",
       "       [ 0.38497653,  0.        ,  0.46808511,  0.49423394,  0.58536585,\n",
       "         0.        ,  0.66329966,  1.        ,  0.34595202],\n",
       "       [ 0.08450704,  1.        ,  0.46808511,  0.47775947,  0.34146341,\n",
       "         0.        ,  0.36868687,  0.        ,  0.48238381],\n",
       "       [ 0.49765258,  0.        ,  0.42723404,  0.21416804,  0.09756098,\n",
       "         0.        ,  0.43181818,  1.        ,  0.54272864],\n",
       "       [ 0.2629108 ,  0.        ,  0.46808511,  0.56672158,  0.27804878,\n",
       "         0.        ,  0.36868687,  1.        ,  0.58733133],\n",
       "       [ 0.1971831 ,  0.        ,  0.17021277,  0.03294893,  0.36585366,\n",
       "         0.        ,  0.26346801,  1.        ,  0.        ],\n",
       "       [ 0.01408451,  0.        ,  0.31914894,  0.24711697,  0.04878049,\n",
       "         0.        ,  0.32659933,  0.        ,  0.30809595],\n",
       "       [ 0.42723005,  0.        ,  0.23404255,  0.32948929,  0.0195122 ,\n",
       "         0.        ,  0.3476431 ,  0.        ,  0.43403298],\n",
       "       [ 0.4084507 ,  0.        ,  0.39574468,  0.2306425 ,  0.24390244,\n",
       "         0.        ,  0.51599327,  0.        ,  0.29497751],\n",
       "       [ 0.89201878,  1.        ,  0.4893617 ,  0.54695222,  0.26829268,\n",
       "         0.        , -0.01010101,  1.        ,  0.42316342],\n",
       "       [ 0.49295775,  0.        ,  0.38297872,  0.44481054,  0.19512195,\n",
       "         0.        ,  0.72643098,  0.        ,  0.15329835],\n",
       "       [ 0.29107981,  1.        ,  0.96808511,  0.44810544,  0.42439024,\n",
       "         0.        ,  0.17929293,  1.        ,  0.31784108],\n",
       "       [ 0.91549296,  0.        ,  0.53191489,  0.64250412,  0.53658537,\n",
       "         1.        ,  0.70538721,  0.        ,  0.29010495],\n",
       "       [ 0.09859155,  1.        ,  0.80851064,  0.64250412,  0.85365854,\n",
       "         0.        ,  0.93686869,  1.        ,  0.66904048],\n",
       "       [ 0.63380282,  1.        ,  0.65957447,  0.31301483,  0.46341463,\n",
       "         0.        ,  0.10774411,  0.        ,  0.54047976],\n",
       "       [ 0.87323944,  1.        ,  0.23404255,  0.44481054,  0.26829268,\n",
       "         0.        ,  0.09511785,  1.        ,  0.43928036],\n",
       "       [ 0.05633803,  1.        ,  0.12765957,  0.29654036,  0.36585366,\n",
       "         0.        ,  0.24242424,  0.        ,  0.51836582],\n",
       "       [ 0.92957746,  1.        ,  0.55319149,  0.54365733,  0.36585366,\n",
       "         0.        ,  0.78956229,  0.        ,  0.77773613],\n",
       "       [ 0.96244131,  0.        ,  0.42553191,  0.41186161,  0.36585366,\n",
       "         0.        ,  0.24242424,  1.        ,  0.20989505],\n",
       "       [ 0.09389671,  0.        ,  0.44680851,  0.46128501,  0.3902439 ,\n",
       "         0.        , -0.01010101,  0.        ,  0.20577211],\n",
       "       [ 0.04225352,  0.        ,  0.36170213,  0.54365733,  0.26829268,\n",
       "         0.        ,  0.07407407,  1.        ,  0.03748126],\n",
       "       [ 0.11737089,  1.        ,  0.24638298,  0.28995058,  0.00487805,\n",
       "         1.        ,  0.53703704,  1.        ,  0.52923538],\n",
       "       [ 0.96713615,  0.        ,  0.        ,  0.08237232,  0.24390244,\n",
       "         0.        ,  0.97895623,  1.        ,  0.08170915],\n",
       "       [ 0.54929577,  0.        ,  0.76595745,  0.62602965,  0.56097561,\n",
       "         0.        ,  0.62121212,  1.        ,  0.59370315],\n",
       "       [ 0.79342723,  0.        ,  0.40340426,  0.08500824,  0.27463415,\n",
       "         0.        ,  0.08417508,  0.        ,  0.53485757],\n",
       "       [ 0.6056338 ,  0.        ,  0.75957447,  0.86820428,  0.3902439 ,\n",
       "         1.        ,  0.83164983,  1.        ,  0.64992504],\n",
       "       [ 0.62910798,  1.        ,  0.77531915,  0.90609555,  0.53658537,\n",
       "         1.        ,  0.91582492,  1.        ,  0.59670165],\n",
       "       [ 0.02347418,  0.        ,  0.29787234,  0.21087315,  0.42073171,\n",
       "         1.        ,  0.09511785,  1.        ,  0.01386807],\n",
       "       [ 0.91079812,  0.        ,  0.23404255,  0.29654036,  0.15365854,\n",
       "         0.        ,  0.17929293,  1.        ,  0.50712144],\n",
       "       [ 0.74178404,  0.        ,  0.55319149,  0.42833608,  0.34146341,\n",
       "         0.        ,  0.2003367 ,  1.        ,  0.39955022],\n",
       "       [ 0.74647887,  0.        ,  0.23404255,  0.19769357,  0.19512195,\n",
       "         0.        ,  0.24242424,  0.        ,  0.35157421],\n",
       "       [ 0.69014085,  0.        ,  0.61702128,  0.60955519,  0.36585366,\n",
       "         0.        ,  0.68434343,  1.        ,  0.41491754],\n",
       "       [ 0.64319249,  0.        ,  0.55319149,  0.42833608,  0.53658537,\n",
       "         0.        ,  0.11616162,  0.        ,  0.34482759],\n",
       "       [ 0.48356808,  0.        ,  0.68085106,  0.67545305,  0.56097561,\n",
       "         1.        ,  0.72643098,  0.        ,  0.54797601],\n",
       "       [ 0.7370892 ,  0.        ,  0.54255319,  0.42009885,  0.26585366,\n",
       "         0.        ,  0.90319865,  1.        ,  0.14317841],\n",
       "       [ 0.51643192,  1.        ,  0.60638298,  0.54365733,  0.53658537,\n",
       "         0.        ,  0.14141414,  0.        ,  0.13455772],\n",
       "       [ 0.93896714,  0.        ,  0.59574468,  0.37891269,  0.36585366,\n",
       "         0.        ,  0.78009259,  1.        ,  0.05997001],\n",
       "       [ 0.08450704,  1.        ,  0.46808511,  0.47775947,  0.34146341,\n",
       "         0.        ,  0.36868687,  0.        ,  0.48238381],\n",
       "       [ 0.4600939 ,  1.        ,  0.59574468,  0.59308072,  0.36585366,\n",
       "         0.        ,  0.41077441,  1.        ,  0.22863568],\n",
       "       [ 0.81220657,  1.        ,  0.23404255,  0.24711697,  0.12195122,\n",
       "         0.        ,  0.3476431 ,  0.        ,  0.30397301],\n",
       "       [ 0.84507042,  0.        ,  0.5106383 ,  0.56836903,  0.31219512,\n",
       "         1.        ,  0.13720539,  1.        ,  0.20202399],\n",
       "       [ 0.07981221,  1.        ,  0.29787234,  0.49423394,  0.34146341,\n",
       "         0.        ,  0.2003367 ,  1.        ,  0.60232384],\n",
       "       [ 0.12676056,  0.        ,  0.46808511,  0.49423394,  0.3902439 ,\n",
       "         0.        ,  0.36868687,  0.        ,  0.24287856],\n",
       "       [ 0.92957746,  1.        ,  0.55319149,  0.54365733,  0.36585366,\n",
       "         0.        ,  0.78956229,  0.        ,  0.77773613],\n",
       "       [ 0.72769953,  0.        ,  0.22489362,  0.62042834,  0.24146341,\n",
       "         1.        ,  0.11931818,  0.        ,  0.55397301],\n",
       "       [ 0.15023474,  1.        ,  0.42553191,  0.72487644,  0.4       ,\n",
       "         0.        ,  0.00862795,  0.        ,  0.41229385],\n",
       "       [ 0.44600939,  0.        ,  0.68085106,  0.67545305,  0.36585366,\n",
       "         1.        ,  0.94654882,  1.        ,  0.41041979],\n",
       "       [ 0.42723005,  0.        ,  0.23404255,  0.32948929,  0.0195122 ,\n",
       "         0.        ,  0.3476431 ,  0.        ,  0.43403298],\n",
       "       [ 0.91079812,  0.        ,  0.23404255,  0.29654036,  0.15365854,\n",
       "         0.        ,  0.17929293,  1.        ,  0.50712144],\n",
       "       [ 0.02347418,  0.        ,  0.29787234,  0.21087315,  0.42073171,\n",
       "         1.        ,  0.09511785,  1.        ,  0.01386807],\n",
       "       [ 0.27230047,  0.        ,  0.70212766,  0.41186161,  0.43902439,\n",
       "         0.        ,  0.49494949,  1.        ,  0.25412294],\n",
       "       [ 0.79812207,  1.        ,  0.47659574,  0.49752883,  0.24390244,\n",
       "         0.        ,  0.15951178,  0.        ,  0.67728636],\n",
       "       [ 0.91079812,  0.        ,  0.23404255,  0.29654036,  0.15365854,\n",
       "         0.        ,  0.17929293,  1.        ,  0.50712144],\n",
       "       [ 0.8028169 ,  0.        ,  0.82978723,  0.70840198,  0.53658537,\n",
       "         1.        ,  0.28009259,  1.        ,  0.55584708],\n",
       "       [ 0.92018779,  0.        ,  0.65957447,  0.42833608,  0.67073171,\n",
       "         1.        ,  0.57912458,  1.        ,  0.12256372]])"
      ]
     },
     "execution_count": 70,
     "metadata": {},
     "output_type": "execute_result"
    }
   ],
   "source": [
    "X_test"
   ]
  },
  {
   "cell_type": "code",
   "execution_count": 74,
   "id": "e4bb72fd",
   "metadata": {},
   "outputs": [
    {
     "name": "stdout",
     "output_type": "stream",
     "text": [
      "Predicted Class : 1\n",
      "Actual Class: 1\n"
     ]
    }
   ],
   "source": [
    "print(\"Predicted Class :\",random_forest.predict(X_test[10].reshape(1,-1))[0])\n",
    "print(\"Actual Class:\", Y_test.iloc[10])"
   ]
  },
  {
   "cell_type": "code",
   "execution_count": 73,
   "id": "43534b92",
   "metadata": {},
   "outputs": [
    {
     "name": "stdout",
     "output_type": "stream",
     "text": [
      "Predicted Class : 0\n",
      "Actual Class: 0\n"
     ]
    }
   ],
   "source": [
    "print(\"Predicted Class :\",random_forest.predict(X_test[50].reshape(1,-1))[0])\n",
    "print(\"Actual Class:\", Y_test.iloc[50])"
   ]
  },
  {
   "cell_type": "markdown",
   "id": "812f8e6d",
   "metadata": {},
   "source": [
    "# Predictive system"
   ]
  },
  {
   "cell_type": "code",
   "execution_count": 75,
   "id": "8bfcec22",
   "metadata": {},
   "outputs": [],
   "source": [
    "def prediction(sl_no, gender, ssc_p, hsc_p, degree_p, workex, etest_p, specialisation, mba_p):\n",
    "    data = {\n",
    "    'sl_no': [sl_no],\n",
    "    'gender': [gender],\n",
    "    'ssc_p': [ssc_p],\n",
    "    'hsc_p': [hsc_p],\n",
    "    'degree_p': [degree_p],\n",
    "    'workex': [workex],\n",
    "    'etest_p': [etest_p],\n",
    "    'specialisation': [specialisation],\n",
    "    'mba_p': [mba_p]\n",
    "    }\n",
    "    data = pd.DataFrame(data)\n",
    "    data['gender'] = data['gender'].map({'M':1,\"F\":0})\n",
    "    data['workex'] = data['workex'].map({\"Yes\":1,\"No\":0})\n",
    "    data['specialisation'] = data['specialisation'].map({\"Mkt&HR\":1,\"Mkt&Fin\":0})\n",
    "    scaled_df = scaler.fit_transform(data)\n",
    "    result = random_forest.predict(scaled_df).reshape(1, -1)\n",
    "    return result[0]"
   ]
  },
  {
   "cell_type": "code",
   "execution_count": 76,
   "id": "b77edff6",
   "metadata": {},
   "outputs": [
    {
     "name": "stdout",
     "output_type": "stream",
     "text": [
      "not place\n"
     ]
    }
   ],
   "source": [
    "sl_no =11\n",
    "gender = \"F\"\n",
    "ssc_p =58.\n",
    "hsc_p = 61.\n",
    "degree_p = 60.\n",
    "workex = \"Yes\"\n",
    "etest_p = 62.\n",
    "specialisation = \"Mkt&Fin\"\n",
    "mba_p = 60.85\n",
    "\n",
    "result = prediction(sl_no, gender, ssc_p, hsc_p, degree_p, workex, etest_p, specialisation, mba_p)\n",
    "\n",
    "if result == 1:\n",
    "    print('place')\n",
    "\n",
    "else:\n",
    "    print('not place')"
   ]
  },
  {
   "cell_type": "markdown",
   "id": "3296f614",
   "metadata": {},
   "source": [
    "# Save Files"
   ]
  },
  {
   "cell_type": "code",
   "execution_count": 78,
   "id": "57141f18",
   "metadata": {},
   "outputs": [],
   "source": [
    "import pickle\n",
    "pickle.dump(random_forest,open('model.pkl','wb'))\n",
    "pickle.dump(scaler,open(\"scaler.pkl\",'wb'))"
   ]
  },
  {
   "cell_type": "code",
   "execution_count": null,
   "id": "efd6ebb1",
   "metadata": {},
   "outputs": [],
   "source": []
  }
 ],
 "metadata": {
  "kernelspec": {
   "display_name": "Python 3",
   "language": "python",
   "name": "python3"
  },
  "language_info": {
   "codemirror_mode": {
    "name": "ipython",
    "version": 3
   },
   "file_extension": ".py",
   "mimetype": "text/x-python",
   "name": "python",
   "nbconvert_exporter": "python",
   "pygments_lexer": "ipython3",
   "version": "3.12.0"
  }
 },
 "nbformat": 4,
 "nbformat_minor": 5
}
